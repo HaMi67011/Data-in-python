{
 "cells": [
  {
   "cell_type": "markdown",
   "source": [
    "# Data\n",
    "data struture"
   ],
   "metadata": {}
  },
  {
   "cell_type": "markdown",
   "source": [
    "# Linked list"
   ],
   "metadata": {}
  },
  {
   "cell_type": "markdown",
   "source": [
    "## LINKED LIST"
   ],
   "metadata": {}
  },
  {
   "cell_type": "markdown",
   "source": [
    "# SINGLY"
   ],
   "metadata": {}
  },
  {
   "cell_type": "code",
   "execution_count": 68,
   "source": [
    "class Node:\n",
    "    def __init__(self,data = None):\n",
    "        self.val = data\n",
    "        self.next = None\n",
    "\n",
    "\n",
    "class SINGLY:\n",
    "    def __init__(self):\n",
    "        self.head = None\n",
    "    \n",
    "    #insertion\n",
    "    def insert(self,data,index):\n",
    "        newnode = Node(data)\n",
    "\n",
    "        #if first insertion\n",
    "        if index == 0:\n",
    "            if self.head is None:\n",
    "                self.head = newnode\n",
    "                return\n",
    "            newnode = self.head\n",
    "            self.head = newnode\n",
    "            return\n",
    "\n",
    "        temp = self.head\n",
    "        count = 0\n",
    "\n",
    "        while temp is not None and count < index:\n",
    "            prev = temp\n",
    "            temp = temp.next\n",
    "            count += 1\n",
    "\n",
    "        prev.next = newnode\n",
    "        newnode = temp\n",
    "\n",
    "    #remove\n",
    "    def remove(self,val):\n",
    "        temp = self.head\n",
    "        #checking if list is empty\n",
    "        if temp is None:\n",
    "            return\n",
    "\n",
    "        if temp is not None:\n",
    "            if temp.val == val:\n",
    "                temp = temp.next\n",
    "                temp.next = None\n",
    "                return\n",
    "            \n",
    "        while temp is not None:\n",
    "            if temp.val == val:\n",
    "                break\n",
    "            prev = temp\n",
    "            temp = temp.next\n",
    "\n",
    "        if temp is None:\n",
    "            return \n",
    "            \n",
    "        prev.next = temp.next\n",
    "\n",
    "    #push\n",
    "    def push(self, val):\n",
    "        newNode = Node(val)\n",
    "        if self.head is None:\n",
    "            self.head = newNode\n",
    "            return\n",
    "        \n",
    "        last = self.head\n",
    "\n",
    "        while last.next is not None:\n",
    "            last = last.next\n",
    "        last.next = newNode\n",
    "\n",
    "\n",
    "    #pop\n",
    "    def pop(self):\n",
    "        #empty lsit\n",
    "        if self.head is None:\n",
    "            raise Exception(\"CANNOT POP VALUE \\nLIST IS EMPTY\")\n",
    "        \n",
    "        if self.head.next is None:\n",
    "            val = self.head.next\n",
    "            self.head = None\n",
    "            return val\n",
    "        \n",
    "        temp = self.head\n",
    "\n",
    "        while temp.next is not None:\n",
    "            prev = temp\n",
    "            temp = temp.next\n",
    "\n",
    "        val = temp.val\n",
    "        prev.next = None\n",
    "        return val\n",
    "\n",
    "    #PRINT\n",
    "    def printSingly(self):\n",
    "        if self.head is None:\n",
    "            print(\"CANNOT DISPLAY\")\n",
    "            return\n",
    "        \n",
    "        temp = self.head\n",
    "\n",
    "        while temp is not None:\n",
    "            print(temp.val)\n",
    "            temp = temp.next\n",
    "    \n"
   ],
   "outputs": [],
   "metadata": {}
  },
  {
   "cell_type": "code",
   "execution_count": 90,
   "source": [
    "root = SINGLY()\n",
    "root.push(3)\n",
    "root.insert(3,1)\n",
    "root.insert(5,2)\n",
    "root.printSingly()\n",
    "root.remove(5)\n",
    "print(root.pop())\n",
    "\n",
    "print()\n",
    "root.printSingly()"
   ],
   "outputs": [
    {
     "output_type": "stream",
     "name": "stdout",
     "text": [
      "3\n",
      "3\n",
      "5\n",
      "3\n",
      "\n",
      "3\n"
     ]
    }
   ],
   "metadata": {}
  },
  {
   "cell_type": "markdown",
   "source": [
    "# DOUBLY LIST"
   ],
   "metadata": {}
  },
  {
   "cell_type": "code",
   "execution_count": 67,
   "source": [
    "class Node:\n",
    "    def __init__(self,data):\n",
    "        self.val = data\n",
    "        self.next = None\n",
    "        self.prev = None\n",
    "\n",
    "\n",
    "class DOUBLY:\n",
    "    def __init__(self):\n",
    "        self.head = None\n",
    "    \n",
    "    #push\n",
    "    def push(self,data):\n",
    "        newnode = Node(data)\n",
    "        #first push\n",
    "        if self.head is None:\n",
    "            self.head = newnode\n",
    "            return\n",
    "        \n",
    "        last = self.head\n",
    "\n",
    "        while last.next is not None:\n",
    "            last = last.next\n",
    "        \n",
    "        last.next = newnode\n",
    "        newnode.prev = last\n",
    "\n",
    "    #pop\n",
    "    def pop(self):\n",
    "        #empty lsit\n",
    "        if self.head is None:\n",
    "            raise Exception(\"CANNOT POP VALUE \\nLIST IS EMPTY\")\n",
    "        \n",
    "        if self.head.next is None:\n",
    "            val = self.head.next\n",
    "            self.head = None\n",
    "            return val\n",
    "        \n",
    "        temp = self.head\n",
    "\n",
    "        while temp.next is not None:\n",
    "            prev = temp\n",
    "            temp = temp.next\n",
    "\n",
    "        val = temp.val\n",
    "        prev.next = None\n",
    "        return val\n",
    "\n",
    "    #insert\n",
    "    def insert(self,index,value):\n",
    "        newnode = Node(value)\n",
    "        #first insertion\n",
    "        if index == 0:\n",
    "            if self.head is None:\n",
    "                self.head = newnode\n",
    "                return\n",
    "            newnode = self.head\n",
    "            if self.head is not None:\n",
    "                self.head.prev = newnode\n",
    "            self.head = newnode\n",
    "            return\n",
    "        \n",
    "        temp = self.head\n",
    "        count = 0\n",
    "\n",
    "        while temp is not None and count < index:\n",
    "            prev = temp\n",
    "            temp = temp.next\n",
    "            count+= 1\n",
    "        \n",
    "        prev.next = newnode\n",
    "        newnode.prev = prev\n",
    "        newnode.next = temp\n",
    "\n",
    "        if temp is not None:\n",
    "            temp.prev - newnode\n",
    "        \n",
    "\n",
    "    #PRINT\n",
    "    def printDOUBLY(self):\n",
    "        if self.head is None:\n",
    "            print(\"CANNOT DISPLAY\")\n",
    "            return\n",
    "        \n",
    "        temp = self.head\n",
    "\n",
    "        while temp is not None:\n",
    "            print(temp.val)\n",
    "            temp = temp.next\n",
    "\n",
    "        \n",
    "    "
   ],
   "outputs": [],
   "metadata": {}
  },
  {
   "cell_type": "code",
   "execution_count": 103,
   "source": [
    "root = DOUBLY()\n",
    "root.push(5)\n",
    "root.printDOUBLY()\n",
    "root.insert(1,3)\n",
    "root.insert(2,9)\n",
    "root.printDOUBLY()\n",
    "print()\n",
    "\n",
    "for n in range(3):\n",
    "    print(root.pop())\n",
    "\n"
   ],
   "outputs": [
    {
     "output_type": "stream",
     "name": "stdout",
     "text": [
      "5\n",
      "5\n",
      "3\n",
      "9\n",
      "\n",
      "9\n",
      "3\n",
      "None\n"
     ]
    }
   ],
   "metadata": {}
  },
  {
   "cell_type": "markdown",
   "source": [
    "# CIRCULAR LIST"
   ],
   "metadata": {}
  },
  {
   "cell_type": "code",
   "execution_count": 9,
   "source": [
    "class node:\n",
    "    def __init__(self,data):\n",
    "        self.val = data\n",
    "        self.next = None\n",
    "\n",
    "\n",
    "class ring:\n",
    "    def __init__(self):\n",
    "        self.head = None\n",
    "    \n",
    "    #find\n",
    "    def __get_last(self):\n",
    "        if self.head is None:\n",
    "            return None\n",
    "        \n",
    "        if self.head.next == self.head:\n",
    "            return self.head\n",
    "        \n",
    "        temp = self.head.next\n",
    "        while temp.next != self.head:\n",
    "            temp = temp.next\n",
    "        return temp\n",
    "\n",
    "    #insert\n",
    "    def insert(self,index,val):\n",
    "        newnode = node(val)\n",
    "        last = self.__get_last()\n",
    "\n",
    "        if index == 0:\n",
    "            newnode.next = self.head\n",
    "            self.head = newnode\n",
    "\n",
    "            if last is None:\n",
    "                self.head.next = self.head\n",
    "            else:\n",
    "                last.next = newnode\n",
    "            return\n",
    "        \n",
    "        temp = self.head\n",
    "        count = 0\n",
    "\n",
    "        while temp is not None and count < index:\n",
    "            prev = temp\n",
    "            temp = temp.next\n",
    "            count+=1\n",
    "        \n",
    "        prev.next = newnode\n",
    "        newnode.next = temp\n",
    "\n",
    "    #remove\n",
    "    def remove(self,val):\n",
    "        if self.head is None:\n",
    "            return\n",
    "        \n",
    "        temp = self.head\n",
    "        last = self.__get_last()\n",
    "\n",
    "        if temp.val == val:\n",
    "            if last == self.head:\n",
    "                self.head = None\n",
    "            else:\n",
    "                self.head = temp.next\n",
    "                last.next = self.head\n",
    "            return\n",
    "\n",
    "        prev = temp \n",
    "        temp = temp.next\n",
    "\n",
    "        while temp != last.next:\n",
    "            if temp.val == val:\n",
    "                break\n",
    "            prev = temp\n",
    "            temp = temp.next\n",
    "        \n",
    "        if temp == temp.next:\n",
    "            return\n",
    "        prev.next = temp.next\n",
    "\n",
    "            \n",
    "    #PRINT\n",
    "    def printCircular(self):\n",
    "        if self.head is None:\n",
    "            print(\"CANNOT DISPLAY\")\n",
    "            return\n",
    "        \n",
    "        temp = self.head\n",
    "\n",
    "        while temp is not None:\n",
    "            print(temp.val)\n",
    "            temp = temp.next\n",
    "            if temp == self.head:\n",
    "                break\n"
   ],
   "outputs": [],
   "metadata": {}
  },
  {
   "cell_type": "code",
   "execution_count": 14,
   "source": [
    "root = ring()\n",
    "root.insert(0,5)\n",
    "root.printCircular()\n",
    "root.insert(1,9)\n",
    "root.printCircular()\n",
    "root.remove(5)\n",
    "root.printCircular()\n"
   ],
   "outputs": [
    {
     "output_type": "stream",
     "name": "stdout",
     "text": [
      "5\n",
      "5\n",
      "9\n",
      "9\n"
     ]
    }
   ],
   "metadata": {}
  },
  {
   "cell_type": "markdown",
   "source": [
    "# STACK"
   ],
   "metadata": {}
  },
  {
   "cell_type": "code",
   "execution_count": 27,
   "source": [
    "class Stack:\n",
    "    def __init__(self):\n",
    "        self.list = []\n",
    "\n",
    "    #push \n",
    "    def push(self,val):\n",
    "        self.list.append(val)\n",
    "\n",
    "    #pop\n",
    "    def pop(self):\n",
    "        return self.list.pop()\n",
    "    \n",
    "    #peek\n",
    "    def peek(self):\n",
    "        return self.list[-1]\n",
    "\n",
    "    #display\n",
    "    def display(self):\n",
    "        for n in range(len(self.list)):\n",
    "            print(self.list[n])"
   ],
   "outputs": [],
   "metadata": {}
  },
  {
   "cell_type": "code",
   "execution_count": 37,
   "source": [
    "stack = Stack()\n",
    "stack.push(5)\n",
    "stack.push(15)\n",
    "stack.push(51)\n",
    "stack.display()\n",
    "stack.pop()\n",
    "stack.pop()\n",
    "stack.pop()\n"
   ],
   "outputs": [
    {
     "output_type": "stream",
     "name": "stdout",
     "text": [
      "5\n",
      "15\n",
      "51\n"
     ]
    },
    {
     "output_type": "execute_result",
     "data": {
      "text/plain": [
       "5"
      ]
     },
     "metadata": {},
     "execution_count": 37
    }
   ],
   "metadata": {}
  },
  {
   "cell_type": "markdown",
   "source": [
    "#### BRACKETS MATCHING PROB"
   ],
   "metadata": {}
  },
  {
   "cell_type": "code",
   "execution_count": 26,
   "source": [
    "def bracket_matching(string):\n",
    "    opening = '([{'\n",
    "    closing = ')]}]'\n",
    "    map_brackets = dict(zip(opening,closing)) #joing them\n",
    "\n",
    "    stack = []\n",
    "\n",
    "    for c in string:\n",
    "        #case for checking brackets\n",
    "        if c not in map_brackets.values() and c not in map_brackets.keys():\n",
    "            continue\n",
    "\n",
    "        #case for starting bracket\n",
    "        if c in map_brackets:\n",
    "            stack.append(map_brackets[c])\n",
    "\n",
    "        #case for closing brackets\n",
    "        elif len(stack) == 0 or c != stack.pop():\n",
    "            return False\n",
    "        \n",
    "    return len(stack) == 0\n",
    "    "
   ],
   "outputs": [],
   "metadata": {}
  },
  {
   "cell_type": "code",
   "execution_count": 31,
   "source": [
    "eq = \"(A+B)*(C+D)\"\n",
    "bracket_matching(eq)"
   ],
   "outputs": [
    {
     "output_type": "execute_result",
     "data": {
      "text/plain": [
       "True"
      ]
     },
     "metadata": {},
     "execution_count": 31
    }
   ],
   "metadata": {}
  },
  {
   "cell_type": "markdown",
   "source": [
    "# QUEUE"
   ],
   "metadata": {}
  },
  {
   "cell_type": "code",
   "execution_count": 35,
   "source": [
    "class Queue:\n",
    "    def __init__(self,size = 3):\n",
    "        self.size = size\n",
    "        self.Q = list(range(size))\n",
    "        self.front = 0\n",
    "        self.rear = 0\n",
    "        self.Empty = True\n",
    "        self.Full = False\n",
    "\n",
    "    #_ shows that its a private function\n",
    "    def _inc(self,val):\n",
    "        if val + 1 == self.size:\n",
    "            return 0\n",
    "        return val + 1\n",
    "    \n",
    "    #inserting in queue\n",
    "    def enQueue(self,val):\n",
    "        if self.Full:\n",
    "            raise Exception(\"QUEUE FULL\")\n",
    "        self.Q[self.rear] = val\n",
    "        self.rear = self._inc(self.rear)\n",
    "\n",
    "        if self.rear == self.front:\n",
    "            self.Full = True\n",
    "        self.Empty = False\n",
    "\n",
    "    #deleting in queue\n",
    "    def deQueue(self):\n",
    "        if self.Empty:\n",
    "            raise Exception(\"ERROR \\nQUEUE IS EMPTY \")\n",
    "        \n",
    "        returnVal = self.Q[self.front]\n",
    "        self.front = self._inc(self.front)\n",
    "\n",
    "    #for displaying\n",
    "    def __str__(self):\n",
    "        return str(self.Q) + \" IN  -> \" + str(self.rear) + \" OUT -> \" + str(self.front)\n",
    "\n"
   ],
   "outputs": [],
   "metadata": {}
  },
  {
   "cell_type": "code",
   "execution_count": 43,
   "source": [
    "x = int (input(\"ENTER THE SIZE OF QUEUE\"))\n",
    "Que = Queue(x)\n",
    "for n in range(x):\n",
    "    Que.enQueue(n)\n",
    "\n"
   ],
   "outputs": [],
   "metadata": {}
  },
  {
   "cell_type": "markdown",
   "source": [
    "# SETS"
   ],
   "metadata": {}
  },
  {
   "cell_type": "code",
   "execution_count": 58,
   "source": [
    "set1 = set({1:'a',2:'b',3:'c'})\n",
    "set2 = set({2:'b',4:'b',6:'c'})\n",
    "print(set1.union(set2))\n",
    "print(set1.intersection(set2))\n",
    "print(set1.difference(set2))\n",
    "print(set1.isdisjoint(set2))\n",
    "print(set1.issubset(set2))\n",
    "print(set1.issuperset(set2))"
   ],
   "outputs": [
    {
     "output_type": "stream",
     "name": "stdout",
     "text": [
      "{1, 2, 3, 4, 6}\n",
      "{2}\n",
      "{1, 3}\n",
      "False\n",
      "False\n",
      "False\n"
     ]
    }
   ],
   "metadata": {}
  },
  {
   "cell_type": "markdown",
   "source": [
    "# ANY - ALL"
   ],
   "metadata": {}
  },
  {
   "cell_type": "code",
   "execution_count": 66,
   "source": [
    "L = [True,False,True,False,False]\n",
    "\n",
    "#if any of the give type is true any single one\n",
    "if any(L): \n",
    "    print('YES OF ANY')\n",
    "\n",
    "#if any of the give type is all true \n",
    "if all(L):\n",
    "    print(\"YES OF ALL\")\n"
   ],
   "outputs": [
    {
     "output_type": "stream",
     "name": "stdout",
     "text": [
      "YES OF ANY\n"
     ]
    }
   ],
   "metadata": {}
  },
  {
   "cell_type": "markdown",
   "source": [
    "# COUNTER"
   ],
   "metadata": {}
  },
  {
   "cell_type": "code",
   "execution_count": 60,
   "source": [
    "import collections"
   ],
   "outputs": [],
   "metadata": {}
  },
  {
   "cell_type": "markdown",
   "source": [
    "# TREE"
   ],
   "metadata": {}
  },
  {
   "cell_type": "code",
   "execution_count": 3,
   "source": [
    "class Tree: \n",
    "  \n",
    "    def __init__(node, value): \n",
    "        node.value = value  \n",
    "        node.left = None\n",
    "        node.right = None\n",
    "    \n",
    "    def Inorder( node, Root ): \n",
    "        if( Root is None ): \n",
    "            return\n",
    "        node.Inorder(Root.left) \n",
    "        print(Root.value,end = ' ') \n",
    "        node.Inorder(Root.right) \n",
    "  \n",
    "    def Insert(node, value): \n",
    "        if node is None: \n",
    "            node = Tree(value)\n",
    "        elif value < node.value:\n",
    "            if node.left is None:\n",
    "                node.left = Tree(value)\n",
    "            else:\n",
    "               node.left.Insert(value) \n",
    "        else:\n",
    "            if node.right is None:\n",
    "                node.right = Tree(value)\n",
    "            else:\n",
    "                node.right.Insert(value)\n",
    "\n",
    "    def Delete(node,temp, value): \n",
    "        if value < node.value:\n",
    "            temp = node\n",
    "            node.left.Delete(temp,value)\n",
    "        elif(value > node.value):\n",
    "            temp = node\n",
    "            node.right.Delete(temp, value)\n",
    "            \n",
    "        else:\n",
    "            if node.left is None and node.right is None:\n",
    "                if(temp.left == node):\n",
    "                    temp.left = None\n",
    "                else:\n",
    "                    temp.right = None\n",
    "                node = None\n",
    "        \n",
    "            elif node.right is None :\n",
    "                if(temp.left == node):\n",
    "                    temp.left = node.left\n",
    "                else:\n",
    "                    temp.right = node.left\n",
    "                node = None\n",
    "    \n",
    "            elif node.left is None :\n",
    "                if temp.left == node:\n",
    "                    temp.left = node.right\n",
    "                else:\n",
    "                    temp.right = node.right\n",
    "                node = None\n",
    "                \n",
    "            else:\n",
    "                temp = node.right\n",
    "                while temp.left is not None:\n",
    "                    temp = temp.left \n",
    "                node.value = temp.value\n",
    "                node.right.Delete(temp,temp.value)   \n"
   ],
   "outputs": [],
   "metadata": {}
  },
  {
   "cell_type": "code",
   "execution_count": 4,
   "source": [
    "Root = Tree(6) \n",
    "Root.Insert(4) \n",
    "Root.Insert(2) \n",
    "Root.Insert(5) \n",
    "Root.Insert(9) \n",
    "Root.Insert(8) \n",
    "Root.Insert( 10) \n",
    "  \n",
    "print (\"Inorder traversal after insertion: \",end = '')\n",
    "Root.Inorder(Root) \n",
    "\n",
    "Root.Delete(Root, 2) \n",
    "print ('\\n 2 is deleted: ',end ='')\n",
    "Root.Inorder(Root) \n",
    "  \n",
    "Root.Delete(Root, 4) \n",
    "print ('\\n 4 is deleted: ',end ='')\n",
    "Root.Inorder(Root) \n",
    "  \n",
    "Root.Delete(Root, 6) \n",
    "print ('\\n 6 is deleted: ',end ='')\n",
    "Root.Inorder(Root)"
   ],
   "outputs": [
    {
     "output_type": "stream",
     "name": "stdout",
     "text": [
      "Inorder traversal after insertion: 2 4 5 6 8 9 10 \n",
      " 2 is deleted: 4 5 6 8 9 10 \n",
      " 4 is deleted: 5 6 8 9 10 \n",
      " 6 is deleted: 5 8 9 10 "
     ]
    }
   ],
   "metadata": {}
  },
  {
   "cell_type": "markdown",
   "source": [
    "#### heapify"
   ],
   "metadata": {}
  },
  {
   "cell_type": "code",
   "execution_count": 70,
   "source": [
    "def Heapify(lst,total,root):\n",
    "    largest = root\n",
    "    left = 2*root + 1\n",
    "    right = 2*root + 2\n",
    "\n",
    "    if left < total and lst[largest] < lst[left]:\n",
    "        largest = left\n",
    "    if right < total and lst[largest] < lst[right]:\n",
    "        largest = right\n",
    "    if largest != root:\n",
    "        lst[root],lst[largest] = lst[largest],lst[root]\n",
    "\n",
    "        Heapify(lst,total,largest)\n"
   ],
   "outputs": [],
   "metadata": {}
  },
  {
   "cell_type": "markdown",
   "source": [
    "# BUBBLE SORT"
   ],
   "metadata": {}
  },
  {
   "cell_type": "code",
   "execution_count": 71,
   "source": [
    "def Bubblesort(l):\n",
    "    n = len(l)\n",
    "    for i in range(n):\n",
    "        #swap = False\n",
    "        for n in range(0,(n-i)-1):\n",
    "            if l[n] > l[n+1]:\n",
    "                l[n],l[n+1] = l[n+1],l[n]\n",
    "                #swap = True\n",
    "        #if swap == False:\n",
    "        ##break"
   ],
   "outputs": [],
   "metadata": {}
  },
  {
   "cell_type": "markdown",
   "source": [
    "# INSERTION SORT"
   ],
   "metadata": {}
  },
  {
   "cell_type": "code",
   "execution_count": 72,
   "source": [
    "def InsertSort(l):\n",
    "    for i in range(1,len(l)):\n",
    "        key = l[i]\n",
    "        j = i-1\n",
    "        while j>=0 and key < l[j]:\n",
    "            l[j+1] = l[j]\n",
    "            j-=1\n",
    "        l[j+1] = key"
   ],
   "outputs": [],
   "metadata": {}
  },
  {
   "cell_type": "markdown",
   "source": [
    "# SELECTION SORT"
   ],
   "metadata": {}
  },
  {
   "cell_type": "code",
   "execution_count": 73,
   "source": [
    "def SelectionSort(l):\n",
    "    n = len(l)\n",
    "    for i in range(n): \n",
    "        min_index = i\n",
    "        for j in range(i+1,n):\n",
    "            if l[j] < j[min_index]:\n",
    "                min_index = j\n",
    "        j[i],j[min_index] = l[min_index],l[i]\n"
   ],
   "outputs": [],
   "metadata": {}
  },
  {
   "cell_type": "markdown",
   "source": [
    "# QUICK SORT"
   ],
   "metadata": {}
  },
  {
   "cell_type": "code",
   "execution_count": 74,
   "source": [
    "import random\n",
    "def quicksort(l,first,last):\n",
    "    if first>=last:\n",
    "        return\n",
    "    i,j = first,last\n",
    "    pivot = l[random.randint(first,last)]\n",
    "\n",
    "    while i<=j:\n",
    "        while l[i] < pivot:i+=1\n",
    "        while l[j] < pivot:j-=1\n",
    "\n",
    "        if i <= j:\n",
    "            l[i],l[j] = l[j],l[i]\n",
    "            i,j = i+1,j-1\n",
    "    \n",
    "    quicksort(l,first,j)\n",
    "    quicksort(l,i,last)\n",
    "    "
   ],
   "outputs": [],
   "metadata": {}
  },
  {
   "cell_type": "markdown",
   "source": [
    "# GRAPH"
   ],
   "metadata": {}
  },
  {
   "cell_type": "code",
   "execution_count": 76,
   "source": [
    "class Graph:\n",
    "    def __init__(self):\n",
    "        self.g = {}\n",
    "\n",
    "\n",
    "    def add_node(self,node):\n",
    "        if node in self.g:\n",
    "            raise Exception(\"Node IS PRESENT \")\n",
    "        self.g[node] = []\n",
    "    \n",
    "    def add_edge(self,src,dest):\n",
    "        if src not in self.g:\n",
    "            raise Exception(\"Node IS NOT PRESENT \")\n",
    "        \n",
    "        if dest not in self.g:\n",
    "            raise Exception(\"Node IS NOT PRESENT \")\n",
    "        \n",
    "        nexts = self.g[src]\n",
    "        if dest in nexts:\n",
    "            return\n",
    "        \n",
    "        next.append(dest)\n",
    "\n",
    "    #terversal\n",
    "    def terversal(self,start):\n",
    "        q = [start]\n",
    "        visited = []\n",
    "\n",
    "        while q:\n",
    "            current = q.pop()\n",
    "            if current in visited:\n",
    "                continue\n",
    "            visited.append(current)\n",
    "            next_node = self.g[current]\n",
    "            for n in next_node:\n",
    "                q.append(n)\n",
    "\n",
    "\n",
    "    #path         \n",
    "    def path(self,start,end,path = []):\n",
    "        if start not in self.g:\n",
    "            raise Exception(\"SOURCE NODE NOT FOUND\") \n",
    "        path = path + [start]\n",
    "\n",
    "        if start == end:\n",
    "            return path \n",
    "        \n",
    "        for node in self.g[start]:\n",
    "            if node not in path:\n",
    "                newpath = self.path(node,end,path)\n",
    "                if newpath:\n",
    "                    return newpath\n",
    "\n",
    "        return None\n"
   ],
   "outputs": [],
   "metadata": {}
  },
  {
   "cell_type": "markdown",
   "source": [
    "# Djk path short path with passing path"
   ],
   "metadata": {}
  },
  {
   "cell_type": "code",
   "execution_count": null,
   "source": [
    "def shortestpath(self,src):\n",
    "    to_visit = list(self.g.keys())\n",
    "    print(\"TO VISIT \" + str(to_visit))\n",
    "\n",
    "    inf = float('inf')\n",
    "\n",
    "    dists = {node:inf for node in to_visit}\n",
    "    dists[src] = 0\n",
    "\n",
    "    print(\"ALL DISTANCES \" + str(dists))\n",
    "\n",
    "    #for showing the path of the shortest\n",
    "\n",
    "    best_path = {}\n",
    "    best_path[(src,src)] = [src]\n",
    "\n",
    "    while to_visit:\n",
    "        print(\"---\")\n",
    "\n",
    "        current = min(to_visit,key = lambda node:dists[node]) #lambda is annoymous function\n",
    "\n",
    "        print(\"CURRENT IS \" + current)\n",
    "\n",
    "        if dists[current] == 'inf':\n",
    "            break\n",
    "\n",
    "        nexts = self.g[current]\n",
    "\n",
    "        unvisited = []\n",
    "\n",
    "        for n in nexts:\n",
    "            if n[0] in to_visit:\n",
    "                unvisited.append(n)\n",
    "        print(\"UNVISITED -> \" + current + str(unvisited))\n",
    "\n",
    "        for n in unvisited:\n",
    "            label = n[0]\n",
    "            dist_to = n[1]\n",
    "\n",
    "            old_dist = dists[label]\n",
    "            new_dist = dists[current]+dist_to\n",
    "\n",
    "            if new_dist < old_dist:\n",
    "                dists[label] = new_dist\n",
    "\n",
    "                #this is also for showing the path \n",
    "\n",
    "                path_to_current = best_path[(src,current)][:]\n",
    "                best_path[(src,label)] = path_to_current\n",
    "                best_path[(src,label)].append(label)\n",
    "                \n",
    "                print(\"PREVIOUS PATH TO CURRENT \" , best_path[(src,current)]) \n",
    "                print(\"BEST PATH \" + best_path[(src,label)])\n",
    "\n",
    "\n",
    "            print(\"ALL DISTANCES \" + str(dists))\n",
    "            to_visit.remove(current)\n",
    "\n",
    "        return best_path[(src,dists)],dists[dists]\n",
    "\n",
    "\n",
    "\n",
    "\n",
    "\n"
   ],
   "outputs": [],
   "metadata": {}
  }
 ],
 "metadata": {
  "orig_nbformat": 4,
  "language_info": {
   "name": "python",
   "version": "3.8.10",
   "mimetype": "text/x-python",
   "codemirror_mode": {
    "name": "ipython",
    "version": 3
   },
   "pygments_lexer": "ipython3",
   "nbconvert_exporter": "python",
   "file_extension": ".py"
  },
  "kernelspec": {
   "name": "python3",
   "display_name": "Python 3.8.10 64-bit"
  },
  "interpreter": {
   "hash": "916dbcbb3f70747c44a77c7bcd40155683ae19c65e1c03b4aa3499c5328201f1"
  }
 },
 "nbformat": 4,
 "nbformat_minor": 2
}